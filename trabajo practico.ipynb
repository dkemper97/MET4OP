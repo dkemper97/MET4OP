{
 "cells": [
  {
   "cell_type": "code",
   "execution_count": 77,
   "source": [
    "import itertools as it\r\n",
    "import math\r\n",
    "import decimal\r\n",
    "#Detector de numeros primos \r\n",
    "\r\n",
    "#La idea basicamente es crear una funcion que detecte si un numero es primo o no y en base a eso iterar en una lista determinada sumando +1 al contador cada vez que encuentra un numero primo\r\n",
    "#cuando llega al numero primo n(el que nos piden) corta la operacion y nos devuelve que numero es\r\n",
    "\r\n",
    "\r\n",
    "#en teoria esto deberia servir para identificar si es primo o no\r\n",
    "def primo (n) :\r\n",
    "    for i in range(2, n) :\r\n",
    "        if (n%i == 0) :\r\n",
    "            print(\"No es primo\")\r\n",
    "            break\r\n",
    "        else :\r\n",
    "            print(\"Es primo\")\r\n",
    "            break\r\n",
    "            \r\n",
    "#esto es otra manera de hacerlo\r\n",
    "def primo2 (n) :\r\n",
    "    if n > 1 :\r\n",
    "        for i in range(2, n) :\r\n",
    "            if (n%i) == 0 :\r\n",
    "                return False\r\n",
    "                break\r\n",
    "            else :\r\n",
    "                return True\r\n",
    "                break\r\n",
    "\r\n",
    "def contador (x) :\r\n",
    "    acumulador = 0                                      #por cada primo encontrado suma 1\r\n",
    "    primo1 = 2                                          #aca anoto el primer primo\r\n",
    "    if x == 1 :\r\n",
    "        return 2\r\n",
    "    while acumulador < x :                              #siempre y cuando el acumulador sea menor al x buscado agrega numeros a la lista de primos\r\n",
    "        primo1 =+1\r\n",
    "        if primo2(primo1)  :                   #cada vez que encuentra un primo le agrega 1 al acumulador\r\n",
    "            acumulador += 1\r\n",
    "            return (acumulador, primo1)                 #devuelve la posicion y el primo  \r\n",
    "                                                        #pero no estaria funcionando asi que tengo que ver que onda\r\n",
    "print(contador(2))\r\n"
   ],
   "outputs": [
    {
     "output_type": "error",
     "ename": "KeyboardInterrupt",
     "evalue": "",
     "traceback": [
      "\u001b[1;31m---------------------------------------------------------------------------\u001b[0m",
      "\u001b[1;31mKeyboardInterrupt\u001b[0m                         Traceback (most recent call last)",
      "\u001b[1;32m<ipython-input-77-aa6f82462289>\u001b[0m in \u001b[0;36m<module>\u001b[1;34m\u001b[0m\n\u001b[0;32m     40\u001b[0m             \u001b[1;32mreturn\u001b[0m \u001b[1;33m(\u001b[0m\u001b[0macumulador\u001b[0m\u001b[1;33m,\u001b[0m \u001b[0mprimo1\u001b[0m\u001b[1;33m)\u001b[0m                 \u001b[1;31m#devuelve la posicion y el primo\u001b[0m\u001b[1;33m\u001b[0m\u001b[1;33m\u001b[0m\u001b[0m\n\u001b[0;32m     41\u001b[0m                                                         \u001b[1;31m#pero no estaria funcionando asi que tengo que ver que onda\u001b[0m\u001b[1;33m\u001b[0m\u001b[1;33m\u001b[0m\u001b[1;33m\u001b[0m\u001b[0m\n\u001b[1;32m---> 42\u001b[1;33m \u001b[0mprint\u001b[0m\u001b[1;33m(\u001b[0m\u001b[0mcontador\u001b[0m\u001b[1;33m(\u001b[0m\u001b[1;36m2\u001b[0m\u001b[1;33m)\u001b[0m\u001b[1;33m)\u001b[0m\u001b[1;33m\u001b[0m\u001b[1;33m\u001b[0m\u001b[0m\n\u001b[0m",
      "\u001b[1;32m<ipython-input-77-aa6f82462289>\u001b[0m in \u001b[0;36mcontador\u001b[1;34m(x)\u001b[0m\n\u001b[0;32m     36\u001b[0m     \u001b[1;32mwhile\u001b[0m \u001b[0macumulador\u001b[0m \u001b[1;33m<\u001b[0m \u001b[0mx\u001b[0m \u001b[1;33m:\u001b[0m                              \u001b[1;31m#siempre y cuando el acumulador sea menor al x buscado agrega numeros a la lista de primos\u001b[0m\u001b[1;33m\u001b[0m\u001b[1;33m\u001b[0m\u001b[0m\n\u001b[0;32m     37\u001b[0m         \u001b[0mprimo1\u001b[0m \u001b[1;33m=\u001b[0m\u001b[1;33m+\u001b[0m\u001b[1;36m1\u001b[0m\u001b[1;33m\u001b[0m\u001b[1;33m\u001b[0m\u001b[0m\n\u001b[1;32m---> 38\u001b[1;33m         \u001b[1;32mif\u001b[0m \u001b[0mprimo2\u001b[0m\u001b[1;33m(\u001b[0m\u001b[0mprimo1\u001b[0m\u001b[1;33m)\u001b[0m  \u001b[1;33m:\u001b[0m                   \u001b[1;31m#cada vez que encuentra un primo le agrega 1 al acumulador\u001b[0m\u001b[1;33m\u001b[0m\u001b[1;33m\u001b[0m\u001b[0m\n\u001b[0m\u001b[0;32m     39\u001b[0m             \u001b[0macumulador\u001b[0m \u001b[1;33m+=\u001b[0m \u001b[1;36m1\u001b[0m\u001b[1;33m\u001b[0m\u001b[1;33m\u001b[0m\u001b[0m\n\u001b[0;32m     40\u001b[0m             \u001b[1;32mreturn\u001b[0m \u001b[1;33m(\u001b[0m\u001b[0macumulador\u001b[0m\u001b[1;33m,\u001b[0m \u001b[0mprimo1\u001b[0m\u001b[1;33m)\u001b[0m                 \u001b[1;31m#devuelve la posicion y el primo\u001b[0m\u001b[1;33m\u001b[0m\u001b[1;33m\u001b[0m\u001b[0m\n",
      "\u001b[1;31mKeyboardInterrupt\u001b[0m: "
     ]
    }
   ],
   "metadata": {}
  }
 ],
 "metadata": {
  "orig_nbformat": 4,
  "language_info": {
   "name": "python",
   "version": "3.8.8",
   "mimetype": "text/x-python",
   "codemirror_mode": {
    "name": "ipython",
    "version": 3
   },
   "pygments_lexer": "ipython3",
   "nbconvert_exporter": "python",
   "file_extension": ".py"
  },
  "kernelspec": {
   "name": "python3",
   "display_name": "Python 3.8.8 64-bit ('base': conda)"
  },
  "interpreter": {
   "hash": "5ee03c025ecb2f378fd5d2aaa2624abdeb98f861818a99abb51d00849b4c6f80"
  }
 },
 "nbformat": 4,
 "nbformat_minor": 2
}